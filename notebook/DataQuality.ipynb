{
 "cells": [
  {
   "cell_type": "code",
   "execution_count": 1,
   "metadata": {},
   "outputs": [],
   "source": [
    "import os\n",
    "import re\n",
    "import sys\n",
    "import json\n",
    "import codecs\n",
    "import locale\n",
    "import logging\n",
    "import requests\n",
    "import datetime as dt\n",
    "from typing import Union, Optional, Tuple, List, cast\n",
    "\n",
    "import tabula\n",
    "from tabula import read_pdf\n",
    "\n",
    "import pandas as pd\n",
    "import numpy as np\n"
   ]
  },
  {
   "cell_type": "code",
   "execution_count": 2,
   "metadata": {},
   "outputs": [],
   "source": [
    "#----------------------------------------------------------------\n",
    "# Configurations section\n",
    "#----------------------------------------------------------------\n",
    "\n",
    "# Url of the pdf file to download:\n",
    "#url_region_pdf = \"https://raw.githubusercontent.com/pcm-dpc/COVID-19/master/schede-riepilogative/regioni/dpc-covid19-ita-scheda-regioni-latest.pdf\"\n",
    "\n",
    "#----------------------------------------------------------------\n",
    "#\n",
    "#----------------------------------------------------------------\n",
    "temp_content_dir = os.path.join(os.sep, 'tmp')\n",
    "\n",
    "now = dt.datetime.now()\n",
    "sample_date = now.strftime(\"%d/%m/%Y\")\n",
    "\n",
    "locale.setlocale(locale.LC_ALL, 'it_IT.UTF-8')\n",
    "ok_statuses = [200, 201, 202]\n",
    "data_file_path = os.path.join(\"..\",\"data\")\n",
    "tmp_data_file_path = os.path.join(os.sep,\"tmp\")\n",
    "\n",
    "csv_data_file = os.path.join(data_file_path, \"report_data.csv\")\n",
    "\n",
    "pdf_file_name = os.path.join(os.sep, \"tmp\", \"temp_data_file.pdf\")\n",
    "it_data_file = os.path.join(data_file_path, \"virus-it.csv\")\n",
    "it_tmp_data_file = os.path.join(data_file_path, \"virus-it-{dt}.csv\".format(dt=now.strftime(\"%Y%m%d\")))\n",
    "\n",
    "lomb_data_file = os.path.join(data_file_path, \"virus-lombardia.csv\")\n",
    "lomb_tmp_data_file = os.path.join(data_file_path, \"virus-lombardia-{dt}.csv\".format(dt=now.strftime(\"%Y%m%d\")))\n",
    "\n"
   ]
  },
  {
   "cell_type": "code",
   "execution_count": 3,
   "metadata": {},
   "outputs": [
    {
     "name": "stdout",
     "output_type": "stream",
     "text": [
      "../data/report_data.csv\n"
     ]
    },
    {
     "data": {
      "text/plain": [
       "((12159, 12), '2020-05-01', '2021-11-30')"
      ]
     },
     "execution_count": 3,
     "metadata": {},
     "output_type": "execute_result"
    }
   ],
   "source": [
    "print(csv_data_file)\n",
    "df = pd.read_csv(csv_data_file, sep=',')\n",
    "(df.shape, df[\"REPORT DATE\"].min(), df[\"REPORT DATE\"].max())"
   ]
  },
  {
   "cell_type": "code",
   "execution_count": 7,
   "metadata": {},
   "outputs": [
    {
     "name": "stdout",
     "output_type": "stream",
     "text": [
      "../data/report_data.csv\n"
     ]
    }
   ],
   "source": [
    "#----------------------------------------------------------------\n",
    "# Data quality tests.\n",
    "#----------------------------------------------------------------\n",
    "print(csv_data_file)\n",
    "df_test = pd.read_csv(csv_data_file, sep=',')\n",
    "\n",
    "rep_date_count = df_test['REPORT DATE'].value_counts().to_frame()\n",
    "rep_date_count.reset_index(inplace=True)\n",
    "rep_date_count.sort_values(by=['index'], inplace=True)\n",
    "#rep_date_count['REPORT DATE'] = rep_date_count['REPORT DATE'].astype(str)\n",
    "#rep_date_count.loc[rep_date_count['REPORT DATE'] < 21]\n",
    "assert rep_date_count.loc[rep_date_count['index'].str.contains(\"2021-11\")].shape[0] == 30, \"Novembre\"\n",
    "assert rep_date_count.loc[rep_date_count['index'].str.contains(\"2021-10\")].shape[0] == 31, \"Ottobre\"\n",
    "assert rep_date_count.loc[rep_date_count['index'].str.contains(\"2021-09\")].shape[0] == 30, \"Settembre\"\n",
    "assert rep_date_count.loc[rep_date_count['index'].str.contains(\"2021-08\")].shape[0] == 31, \"Agosto\"\n",
    "assert rep_date_count.loc[rep_date_count['index'].str.contains(\"2021-07\")].shape[0] == 31, \"Luglio\"\n",
    "assert rep_date_count.loc[rep_date_count['index'].str.contains(\"2021-06\")].shape[0] == 30, \"Giugno\"\n",
    "assert rep_date_count.loc[rep_date_count['index'].str.contains(\"2021-05\")].shape[0] == 31, \"Maggio\"\n",
    "assert rep_date_count.loc[rep_date_count['index'].str.contains(\"2021-04\")].shape[0] == 30, \"Aprile\"\n",
    "assert rep_date_count.loc[rep_date_count['index'].str.contains(\"2021-03\")].shape[0] == 31, \"Marzo\"\n",
    "assert rep_date_count.loc[rep_date_count['index'].str.contains(\"2021-02\")].shape[0] == 28, \"Febbraio\"\n",
    "assert rep_date_count.loc[rep_date_count['index'].str.contains(\"2021-01\")].shape[0] == 31, \"Gennaio\"\n",
    "assert rep_date_count.loc[rep_date_count['index'].str.contains(\"2020-12\")].shape[0] == 31, \"Dicembre\"\n",
    "assert rep_date_count.loc[rep_date_count['index'].str.contains(\"2020-11\")].shape[0] == 30, \"Novembre\"\n",
    "assert rep_date_count.loc[rep_date_count['index'].str.contains(\"2020-10\")].shape[0] == 31, \"Ottobre\"\n",
    "assert rep_date_count.loc[rep_date_count['index'].str.contains(\"2020-09\")].shape[0] == 30, \"Settembre\"\n",
    "assert rep_date_count.loc[rep_date_count['index'].str.contains(\"2020-08\")].shape[0] == 31, \"Agosto\"\n",
    "assert rep_date_count.loc[rep_date_count['index'].str.contains(\"2020-07\")].shape[0] == 31, \"Luglio\"\n",
    "assert rep_date_count.loc[rep_date_count['index'].str.contains(\"2020-06\")].shape[0] == 30, \"Giugno\"\n",
    "assert rep_date_count.loc[rep_date_count['index'].str.contains(\"2020-05\")].shape[0] == 31, \"Maggio\"\n",
    "#assert rep_date_count.loc[rep_date_count['index'].str.contains(\"2020-04\")].shape[0] == 30, \"Aprile\"\n",
    "\n"
   ]
  },
  {
   "cell_type": "code",
   "execution_count": 5,
   "metadata": {},
   "outputs": [
    {
     "name": "stdout",
     "output_type": "stream",
     "text": [
      "Done!\n"
     ]
    }
   ],
   "source": [
    "# Check that all the days has 21 rows, one for each region.\n",
    "df_test = pd.read_csv(csv_data_file, sep=',')\n",
    "df_test.sort_values(by=[\"REPORT DATE\"], inplace=True)\n",
    "date_list = df_test[\"REPORT DATE\"].unique()\n",
    "for current_dt in date_list:\n",
    "    #print(current_dt)\n",
    "    mask = (df_test[\"REPORT DATE\"] == current_dt)\n",
    "    assert df_test.loc[mask].shape[0] == 21, \"Wrong date {d}\".format(d=current_dt)\n",
    "print(\"Done!\")"
   ]
  },
  {
   "cell_type": "code",
   "execution_count": null,
   "metadata": {},
   "outputs": [],
   "source": []
  }
 ],
 "metadata": {
  "kernelspec": {
   "display_name": "Python 3 (ipykernel)",
   "language": "python",
   "name": "python3"
  },
  "language_info": {
   "codemirror_mode": {
    "name": "ipython",
    "version": 3
   },
   "file_extension": ".py",
   "mimetype": "text/x-python",
   "name": "python",
   "nbconvert_exporter": "python",
   "pygments_lexer": "ipython3",
   "version": "3.8.9"
  }
 },
 "nbformat": 4,
 "nbformat_minor": 4
}
